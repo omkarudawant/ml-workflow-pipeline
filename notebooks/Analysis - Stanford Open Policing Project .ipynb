{
 "cells": [
  {
   "cell_type": "markdown",
   "id": "5ece8dfe",
   "metadata": {},
   "source": [
    "# Stanford Open Policing Project\n",
    "\n",
    "## About Dataset\n",
    "\n",
    "### Context\n",
    "\n",
    "- On a typical day in the United States, police officers make more than 50,000 traffic stops. \n",
    "- The team is gathering, analyzing, and releasing records from millions of traffic stops by law enforcement agencies across the country. \n",
    "- The goal is to help researchers, journalists, and policymakers investigate and improve interactions between police and the public.\n",
    "\n",
    "### Inspiration\n",
    "\n",
    "- Do men or women speed more often?\n",
    "- Does gender affect who gets searched during a stop?\n",
    "- During a search, how often is the driver frisked?\n",
    "- Which year had the least number of stops?\n",
    "- How does drug activity change by time of day?\n",
    "- Do most stops occur at night?"
   ]
  },
  {
   "cell_type": "code",
   "execution_count": 1,
   "id": "e91c6b57",
   "metadata": {
    "ExecuteTime": {
     "end_time": "2022-04-17T07:45:36.712250Z",
     "start_time": "2022-04-17T07:45:35.970150Z"
    }
   },
   "outputs": [],
   "source": [
    "import os\n",
    "import matplotlib.pyplot as plt\n",
    "import matplotlib\n",
    "import numpy as np\n",
    "import pandas as pd\n",
    "from warnings import filterwarnings\n",
    "\n",
    "filterwarnings('ignore')\n",
    "\n",
    "font = {'weight': 'bold', 'size': 19}\n",
    "\n",
    "matplotlib.rc('font', **font)"
   ]
  },
  {
   "cell_type": "code",
   "execution_count": 2,
   "id": "64b2ee96",
   "metadata": {
    "ExecuteTime": {
     "end_time": "2022-04-17T07:45:37.873253Z",
     "start_time": "2022-04-17T07:45:36.712250Z"
    }
   },
   "outputs": [
    {
     "data": {
      "text/html": [
       "<div>\n",
       "<style scoped>\n",
       "    .dataframe tbody tr th:only-of-type {\n",
       "        vertical-align: middle;\n",
       "    }\n",
       "\n",
       "    .dataframe tbody tr th {\n",
       "        vertical-align: top;\n",
       "    }\n",
       "\n",
       "    .dataframe thead th {\n",
       "        text-align: right;\n",
       "    }\n",
       "</style>\n",
       "<table border=\"1\" class=\"dataframe\">\n",
       "  <thead>\n",
       "    <tr style=\"text-align: right;\">\n",
       "      <th></th>\n",
       "      <th>91736</th>\n",
       "      <th>91737</th>\n",
       "      <th>91738</th>\n",
       "      <th>91739</th>\n",
       "      <th>91740</th>\n",
       "    </tr>\n",
       "  </thead>\n",
       "  <tbody>\n",
       "    <tr>\n",
       "      <th>stop_date</th>\n",
       "      <td>2015-12-31</td>\n",
       "      <td>2015-12-31</td>\n",
       "      <td>2015-12-31</td>\n",
       "      <td>2015-12-31</td>\n",
       "      <td>2015-12-31</td>\n",
       "    </tr>\n",
       "    <tr>\n",
       "      <th>stop_time</th>\n",
       "      <td>20:27</td>\n",
       "      <td>20:35</td>\n",
       "      <td>20:45</td>\n",
       "      <td>21:42</td>\n",
       "      <td>22:46</td>\n",
       "    </tr>\n",
       "    <tr>\n",
       "      <th>county_name</th>\n",
       "      <td>NaN</td>\n",
       "      <td>NaN</td>\n",
       "      <td>NaN</td>\n",
       "      <td>NaN</td>\n",
       "      <td>NaN</td>\n",
       "    </tr>\n",
       "    <tr>\n",
       "      <th>driver_gender</th>\n",
       "      <td>M</td>\n",
       "      <td>F</td>\n",
       "      <td>M</td>\n",
       "      <td>M</td>\n",
       "      <td>M</td>\n",
       "    </tr>\n",
       "    <tr>\n",
       "      <th>driver_age_raw</th>\n",
       "      <td>1986</td>\n",
       "      <td>1982</td>\n",
       "      <td>1992</td>\n",
       "      <td>1993</td>\n",
       "      <td>1959</td>\n",
       "    </tr>\n",
       "    <tr>\n",
       "      <th>driver_age</th>\n",
       "      <td>29</td>\n",
       "      <td>33</td>\n",
       "      <td>23</td>\n",
       "      <td>22</td>\n",
       "      <td>56</td>\n",
       "    </tr>\n",
       "    <tr>\n",
       "      <th>driver_race</th>\n",
       "      <td>White</td>\n",
       "      <td>White</td>\n",
       "      <td>White</td>\n",
       "      <td>White</td>\n",
       "      <td>Hispanic</td>\n",
       "    </tr>\n",
       "    <tr>\n",
       "      <th>violation_raw</th>\n",
       "      <td>Speeding</td>\n",
       "      <td>Equipment/Inspection Violation</td>\n",
       "      <td>Other Traffic Violation</td>\n",
       "      <td>Speeding</td>\n",
       "      <td>Speeding</td>\n",
       "    </tr>\n",
       "    <tr>\n",
       "      <th>violation</th>\n",
       "      <td>Speeding</td>\n",
       "      <td>Equipment</td>\n",
       "      <td>Moving violation</td>\n",
       "      <td>Speeding</td>\n",
       "      <td>Speeding</td>\n",
       "    </tr>\n",
       "    <tr>\n",
       "      <th>search_conducted</th>\n",
       "      <td>False</td>\n",
       "      <td>False</td>\n",
       "      <td>False</td>\n",
       "      <td>False</td>\n",
       "      <td>False</td>\n",
       "    </tr>\n",
       "    <tr>\n",
       "      <th>search_type</th>\n",
       "      <td>NaN</td>\n",
       "      <td>NaN</td>\n",
       "      <td>NaN</td>\n",
       "      <td>NaN</td>\n",
       "      <td>NaN</td>\n",
       "    </tr>\n",
       "    <tr>\n",
       "      <th>stop_outcome</th>\n",
       "      <td>Warning</td>\n",
       "      <td>Warning</td>\n",
       "      <td>Warning</td>\n",
       "      <td>Citation</td>\n",
       "      <td>Citation</td>\n",
       "    </tr>\n",
       "    <tr>\n",
       "      <th>is_arrested</th>\n",
       "      <td>False</td>\n",
       "      <td>False</td>\n",
       "      <td>False</td>\n",
       "      <td>False</td>\n",
       "      <td>False</td>\n",
       "    </tr>\n",
       "    <tr>\n",
       "      <th>stop_duration</th>\n",
       "      <td>0-15 Min</td>\n",
       "      <td>0-15 Min</td>\n",
       "      <td>0-15 Min</td>\n",
       "      <td>0-15 Min</td>\n",
       "      <td>0-15 Min</td>\n",
       "    </tr>\n",
       "    <tr>\n",
       "      <th>drugs_related_stop</th>\n",
       "      <td>False</td>\n",
       "      <td>False</td>\n",
       "      <td>False</td>\n",
       "      <td>False</td>\n",
       "      <td>False</td>\n",
       "    </tr>\n",
       "  </tbody>\n",
       "</table>\n",
       "</div>"
      ],
      "text/plain": [
       "                         91736                           91737  \\\n",
       "stop_date           2015-12-31                      2015-12-31   \n",
       "stop_time                20:27                           20:35   \n",
       "county_name                NaN                             NaN   \n",
       "driver_gender                M                               F   \n",
       "driver_age_raw            1986                            1982   \n",
       "driver_age                  29                              33   \n",
       "driver_race              White                           White   \n",
       "violation_raw         Speeding  Equipment/Inspection Violation   \n",
       "violation             Speeding                       Equipment   \n",
       "search_conducted         False                           False   \n",
       "search_type                NaN                             NaN   \n",
       "stop_outcome           Warning                         Warning   \n",
       "is_arrested              False                           False   \n",
       "stop_duration         0-15 Min                        0-15 Min   \n",
       "drugs_related_stop       False                           False   \n",
       "\n",
       "                                      91738       91739       91740  \n",
       "stop_date                        2015-12-31  2015-12-31  2015-12-31  \n",
       "stop_time                             20:45       21:42       22:46  \n",
       "county_name                             NaN         NaN         NaN  \n",
       "driver_gender                             M           M           M  \n",
       "driver_age_raw                         1992        1993        1959  \n",
       "driver_age                               23          22          56  \n",
       "driver_race                           White       White    Hispanic  \n",
       "violation_raw       Other Traffic Violation    Speeding    Speeding  \n",
       "violation                  Moving violation    Speeding    Speeding  \n",
       "search_conducted                      False       False       False  \n",
       "search_type                             NaN         NaN         NaN  \n",
       "stop_outcome                        Warning    Citation    Citation  \n",
       "is_arrested                           False       False       False  \n",
       "stop_duration                      0-15 Min    0-15 Min    0-15 Min  \n",
       "drugs_related_stop                    False       False       False  "
      ]
     },
     "execution_count": 2,
     "metadata": {},
     "output_type": "execute_result"
    }
   ],
   "source": [
    "os.system('gsutil -n cp gs://tzar-bomba/police_project.csv ../data/01_raw/')\n",
    "df = pd.read_csv('../data/01_raw/police_project.csv')\n",
    "df.tail().T"
   ]
  },
  {
   "cell_type": "code",
   "execution_count": 3,
   "id": "b44d5dc0",
   "metadata": {
    "ExecuteTime": {
     "end_time": "2022-04-17T07:45:37.919253Z",
     "start_time": "2022-04-17T07:45:37.874252Z"
    }
   },
   "outputs": [
    {
     "data": {
      "text/plain": [
       "(stop_date               0.000000\n",
       " stop_time               0.000000\n",
       " county_name           100.000000\n",
       " driver_gender           5.815284\n",
       " driver_age_raw          5.806564\n",
       " driver_age              6.127032\n",
       " driver_race             5.813104\n",
       " violation_raw           5.813104\n",
       " violation               5.813104\n",
       " search_conducted        0.000000\n",
       " search_type            96.516280\n",
       " stop_outcome            5.813104\n",
       " is_arrested             5.813104\n",
       " stop_duration           5.813104\n",
       " drugs_related_stop      0.000000\n",
       " dtype: float64,\n",
       " 91741)"
      ]
     },
     "execution_count": 3,
     "metadata": {},
     "output_type": "execute_result"
    }
   ],
   "source": [
    "(df.isna().sum() / len(df)) * 100, len(df)"
   ]
  },
  {
   "cell_type": "code",
   "execution_count": 4,
   "id": "3f58f205",
   "metadata": {
    "ExecuteTime": {
     "end_time": "2022-04-17T07:45:37.935248Z",
     "start_time": "2022-04-17T07:45:37.921257Z"
    }
   },
   "outputs": [],
   "source": [
    "df.drop(['county_name', 'search_type'], axis=1, inplace=True)"
   ]
  },
  {
   "cell_type": "code",
   "execution_count": 5,
   "id": "a635ed95",
   "metadata": {
    "ExecuteTime": {
     "end_time": "2022-04-17T07:45:37.982508Z",
     "start_time": "2022-04-17T07:45:37.937253Z"
    }
   },
   "outputs": [],
   "source": [
    "df.dropna(axis=0, inplace=True)"
   ]
  },
  {
   "cell_type": "code",
   "execution_count": 6,
   "id": "a52bc495",
   "metadata": {
    "ExecuteTime": {
     "end_time": "2022-04-17T07:45:38.028753Z",
     "start_time": "2022-04-17T07:45:37.984729Z"
    }
   },
   "outputs": [
    {
     "name": "stdout",
     "output_type": "stream",
     "text": [
      "<class 'pandas.core.frame.DataFrame'>\n",
      "Int64Index: 86113 entries, 0 to 91740\n",
      "Data columns (total 13 columns):\n",
      " #   Column              Non-Null Count  Dtype  \n",
      "---  ------              --------------  -----  \n",
      " 0   stop_date           86113 non-null  object \n",
      " 1   stop_time           86113 non-null  object \n",
      " 2   driver_gender       86113 non-null  object \n",
      " 3   driver_age_raw      86113 non-null  float64\n",
      " 4   driver_age          86113 non-null  float64\n",
      " 5   driver_race         86113 non-null  object \n",
      " 6   violation_raw       86113 non-null  object \n",
      " 7   violation           86113 non-null  object \n",
      " 8   search_conducted    86113 non-null  bool   \n",
      " 9   stop_outcome        86113 non-null  object \n",
      " 10  is_arrested         86113 non-null  object \n",
      " 11  stop_duration       86113 non-null  object \n",
      " 12  drugs_related_stop  86113 non-null  bool   \n",
      "dtypes: bool(2), float64(2), object(9)\n",
      "memory usage: 8.0+ MB\n"
     ]
    }
   ],
   "source": [
    "df.info()"
   ]
  },
  {
   "cell_type": "code",
   "execution_count": 7,
   "id": "c7557e18",
   "metadata": {
    "ExecuteTime": {
     "end_time": "2022-04-17T07:45:38.152246Z",
     "start_time": "2022-04-17T07:45:38.030736Z"
    }
   },
   "outputs": [
    {
     "name": "stdout",
     "output_type": "stream",
     "text": [
      "====================================================================================================\n"
     ]
    },
    {
     "data": {
      "image/png": "[encoded data removed]",
      "text/plain": [
       "<Figure size 720x432 with 1 Axes>"
      ]
     },
     "metadata": {},
     "output_type": "display_data"
    },
    {
     "name": "stdout",
     "output_type": "stream",
     "text": [
      "M    38.212581\n",
      "F    17.945026\n",
      "Name: driver_gender, dtype: float64\n",
      "====================================================================================================\n"
     ]
    }
   ],
   "source": [
    "tdf = df[df['violation'] == 'Speeding']\n",
    "val = tdf['driver_gender'].value_counts().sort_values(ascending=False)\n",
    "print('=' * 100)\n",
    "plt.figure(figsize=(10, 6))\n",
    "val.plot(kind='pie')\n",
    "plt.title('% of M/F drivers stopped')\n",
    "plt.show()\n",
    "print((val / len(df)) * 100)\n",
    "print('=' * 100)"
   ]
  },
  {
   "cell_type": "code",
   "execution_count": 8,
   "id": "f83a99ad",
   "metadata": {
    "ExecuteTime": {
     "end_time": "2022-04-17T07:45:38.286510Z",
     "start_time": "2022-04-17T07:45:38.155252Z"
    },
    "hide_input": false
   },
   "outputs": [
    {
     "name": "stdout",
     "output_type": "stream",
     "text": [
      "====================================================================================================\n"
     ]
    },
    {
     "data": {
      "image/png": "[encoded data removed]",
      "text/plain": [
       "<Figure size 720x576 with 1 Axes>"
      ]
     },
     "metadata": {
      "needs_background": "light"
     },
     "output_type": "display_data"
    },
    {
     "name": "stdout",
     "output_type": "stream",
     "text": [
      "search_conducted  driver_gender\n",
      "False             M                37.259183\n",
      "                  F                17.788255\n",
      "True              M                 0.953398\n",
      "                  F                 0.156771\n",
      "Name: driver_gender, dtype: float64\n",
      "====================================================================================================\n"
     ]
    }
   ],
   "source": [
    "tdf = df[df['violation'] == 'Speeding'].groupby(by='search_conducted')\n",
    "\n",
    "val = tdf['driver_gender'].value_counts().sort_values(ascending=False)\n",
    "print('=' * 100)\n",
    "plt.figure(figsize=(10, 8))\n",
    "val.plot(kind='barh')\n",
    "plt.title('% of M/F speeding drivers stopped')\n",
    "plt.show()\n",
    "print((val / len(df)) * 100)\n",
    "print('=' * 100)"
   ]
  },
  {
   "cell_type": "code",
   "execution_count": 9,
   "id": "b71eb0f2",
   "metadata": {
    "ExecuteTime": {
     "end_time": "2022-04-17T07:45:38.381509Z",
     "start_time": "2022-04-17T07:45:38.287512Z"
    }
   },
   "outputs": [],
   "source": [
    "df['stop_date'] = pd.to_datetime(df['stop_date'])\n",
    "df['stop_time'] = pd.to_datetime(df['stop_time'], format='%H:%M').dt.time"
   ]
  },
  {
   "cell_type": "code",
   "execution_count": 10,
   "id": "9f37d93a",
   "metadata": {
    "ExecuteTime": {
     "end_time": "2022-04-17T07:45:38.412514Z",
     "start_time": "2022-04-17T07:45:38.382520Z"
    }
   },
   "outputs": [
    {
     "name": "stdout",
     "output_type": "stream",
     "text": [
      "<class 'pandas.core.frame.DataFrame'>\n",
      "Int64Index: 86113 entries, 0 to 91740\n",
      "Data columns (total 13 columns):\n",
      " #   Column              Non-Null Count  Dtype         \n",
      "---  ------              --------------  -----         \n",
      " 0   stop_date           86113 non-null  datetime64[ns]\n",
      " 1   stop_time           86113 non-null  object        \n",
      " 2   driver_gender       86113 non-null  object        \n",
      " 3   driver_age_raw      86113 non-null  float64       \n",
      " 4   driver_age          86113 non-null  float64       \n",
      " 5   driver_race         86113 non-null  object        \n",
      " 6   violation_raw       86113 non-null  object        \n",
      " 7   violation           86113 non-null  object        \n",
      " 8   search_conducted    86113 non-null  bool          \n",
      " 9   stop_outcome        86113 non-null  object        \n",
      " 10  is_arrested         86113 non-null  object        \n",
      " 11  stop_duration       86113 non-null  object        \n",
      " 12  drugs_related_stop  86113 non-null  bool          \n",
      "dtypes: bool(2), datetime64[ns](1), float64(2), object(8)\n",
      "memory usage: 8.0+ MB\n"
     ]
    }
   ],
   "source": [
    "df.info()"
   ]
  },
  {
   "cell_type": "code",
   "execution_count": 11,
   "id": "2ece2ebe",
   "metadata": {
    "ExecuteTime": {
     "end_time": "2022-04-17T07:45:38.428506Z",
     "start_time": "2022-04-17T07:45:38.413511Z"
    }
   },
   "outputs": [
    {
     "data": {
      "text/html": [
       "<div>\n",
       "<style scoped>\n",
       "    .dataframe tbody tr th:only-of-type {\n",
       "        vertical-align: middle;\n",
       "    }\n",
       "\n",
       "    .dataframe tbody tr th {\n",
       "        vertical-align: top;\n",
       "    }\n",
       "\n",
       "    .dataframe thead th {\n",
       "        text-align: right;\n",
       "    }\n",
       "</style>\n",
       "<table border=\"1\" class=\"dataframe\">\n",
       "  <thead>\n",
       "    <tr style=\"text-align: right;\">\n",
       "      <th></th>\n",
       "      <th>91736</th>\n",
       "      <th>91737</th>\n",
       "      <th>91738</th>\n",
       "      <th>91739</th>\n",
       "      <th>91740</th>\n",
       "    </tr>\n",
       "  </thead>\n",
       "  <tbody>\n",
       "    <tr>\n",
       "      <th>stop_date</th>\n",
       "      <td>2015-12-31 00:00:00</td>\n",
       "      <td>2015-12-31 00:00:00</td>\n",
       "      <td>2015-12-31 00:00:00</td>\n",
       "      <td>2015-12-31 00:00:00</td>\n",
       "      <td>2015-12-31 00:00:00</td>\n",
       "    </tr>\n",
       "    <tr>\n",
       "      <th>stop_time</th>\n",
       "      <td>20:27:00</td>\n",
       "      <td>20:35:00</td>\n",
       "      <td>20:45:00</td>\n",
       "      <td>21:42:00</td>\n",
       "      <td>22:46:00</td>\n",
       "    </tr>\n",
       "    <tr>\n",
       "      <th>driver_gender</th>\n",
       "      <td>M</td>\n",
       "      <td>F</td>\n",
       "      <td>M</td>\n",
       "      <td>M</td>\n",
       "      <td>M</td>\n",
       "    </tr>\n",
       "    <tr>\n",
       "      <th>driver_age_raw</th>\n",
       "      <td>1986</td>\n",
       "      <td>1982</td>\n",
       "      <td>1992</td>\n",
       "      <td>1993</td>\n",
       "      <td>1959</td>\n",
       "    </tr>\n",
       "    <tr>\n",
       "      <th>driver_age</th>\n",
       "      <td>29</td>\n",
       "      <td>33</td>\n",
       "      <td>23</td>\n",
       "      <td>22</td>\n",
       "      <td>56</td>\n",
       "    </tr>\n",
       "    <tr>\n",
       "      <th>driver_race</th>\n",
       "      <td>White</td>\n",
       "      <td>White</td>\n",
       "      <td>White</td>\n",
       "      <td>White</td>\n",
       "      <td>Hispanic</td>\n",
       "    </tr>\n",
       "    <tr>\n",
       "      <th>violation_raw</th>\n",
       "      <td>Speeding</td>\n",
       "      <td>Equipment/Inspection Violation</td>\n",
       "      <td>Other Traffic Violation</td>\n",
       "      <td>Speeding</td>\n",
       "      <td>Speeding</td>\n",
       "    </tr>\n",
       "    <tr>\n",
       "      <th>violation</th>\n",
       "      <td>Speeding</td>\n",
       "      <td>Equipment</td>\n",
       "      <td>Moving violation</td>\n",
       "      <td>Speeding</td>\n",
       "      <td>Speeding</td>\n",
       "    </tr>\n",
       "    <tr>\n",
       "      <th>search_conducted</th>\n",
       "      <td>False</td>\n",
       "      <td>False</td>\n",
       "      <td>False</td>\n",
       "      <td>False</td>\n",
       "      <td>False</td>\n",
       "    </tr>\n",
       "    <tr>\n",
       "      <th>stop_outcome</th>\n",
       "      <td>Warning</td>\n",
       "      <td>Warning</td>\n",
       "      <td>Warning</td>\n",
       "      <td>Citation</td>\n",
       "      <td>Citation</td>\n",
       "    </tr>\n",
       "    <tr>\n",
       "      <th>is_arrested</th>\n",
       "      <td>False</td>\n",
       "      <td>False</td>\n",
       "      <td>False</td>\n",
       "      <td>False</td>\n",
       "      <td>False</td>\n",
       "    </tr>\n",
       "    <tr>\n",
       "      <th>stop_duration</th>\n",
       "      <td>0-15 Min</td>\n",
       "      <td>0-15 Min</td>\n",
       "      <td>0-15 Min</td>\n",
       "      <td>0-15 Min</td>\n",
       "      <td>0-15 Min</td>\n",
       "    </tr>\n",
       "    <tr>\n",
       "      <th>drugs_related_stop</th>\n",
       "      <td>False</td>\n",
       "      <td>False</td>\n",
       "      <td>False</td>\n",
       "      <td>False</td>\n",
       "      <td>False</td>\n",
       "    </tr>\n",
       "  </tbody>\n",
       "</table>\n",
       "</div>"
      ],
      "text/plain": [
       "                                  91736                           91737  \\\n",
       "stop_date           2015-12-31 00:00:00             2015-12-31 00:00:00   \n",
       "stop_time                      20:27:00                        20:35:00   \n",
       "driver_gender                         M                               F   \n",
       "driver_age_raw                     1986                            1982   \n",
       "driver_age                           29                              33   \n",
       "driver_race                       White                           White   \n",
       "violation_raw                  Speeding  Equipment/Inspection Violation   \n",
       "violation                      Speeding                       Equipment   \n",
       "search_conducted                  False                           False   \n",
       "stop_outcome                    Warning                         Warning   \n",
       "is_arrested                       False                           False   \n",
       "stop_duration                  0-15 Min                        0-15 Min   \n",
       "drugs_related_stop                False                           False   \n",
       "\n",
       "                                      91738                91739  \\\n",
       "stop_date               2015-12-31 00:00:00  2015-12-31 00:00:00   \n",
       "stop_time                          20:45:00             21:42:00   \n",
       "driver_gender                             M                    M   \n",
       "driver_age_raw                         1992                 1993   \n",
       "driver_age                               23                   22   \n",
       "driver_race                           White                White   \n",
       "violation_raw       Other Traffic Violation             Speeding   \n",
       "violation                  Moving violation             Speeding   \n",
       "search_conducted                      False                False   \n",
       "stop_outcome                        Warning             Citation   \n",
       "is_arrested                           False                False   \n",
       "stop_duration                      0-15 Min             0-15 Min   \n",
       "drugs_related_stop                    False                False   \n",
       "\n",
       "                                  91740  \n",
       "stop_date           2015-12-31 00:00:00  \n",
       "stop_time                      22:46:00  \n",
       "driver_gender                         M  \n",
       "driver_age_raw                     1959  \n",
       "driver_age                           56  \n",
       "driver_race                    Hispanic  \n",
       "violation_raw                  Speeding  \n",
       "violation                      Speeding  \n",
       "search_conducted                  False  \n",
       "stop_outcome                   Citation  \n",
       "is_arrested                       False  \n",
       "stop_duration                  0-15 Min  \n",
       "drugs_related_stop                False  "
      ]
     },
     "execution_count": 11,
     "metadata": {},
     "output_type": "execute_result"
    }
   ],
   "source": [
    "df.tail().T"
   ]
  },
  {
   "cell_type": "code",
   "execution_count": 12,
   "id": "ad62da38",
   "metadata": {
    "ExecuteTime": {
     "end_time": "2022-04-17T07:45:38.551727Z",
     "start_time": "2022-04-17T07:45:38.429508Z"
    }
   },
   "outputs": [
    {
     "name": "stdout",
     "output_type": "stream",
     "text": [
      "====================================================================================================\n"
     ]
    },
    {
     "data": {
      "image/png": "[encoded data removed]",
      "text/plain": [
       "<Figure size 720x576 with 1 Axes>"
      ]
     },
     "metadata": {
      "needs_background": "light"
     },
     "output_type": "display_data"
    },
    {
     "name": "stdout",
     "output_type": "stream",
     "text": [
      "Speeding               56.157607\n",
      "Moving violation       18.770685\n",
      "Equipment              12.782042\n",
      "Other                   4.881957\n",
      "Registration/plates     3.979655\n",
      "Seat belt               3.428054\n",
      "Name: violation, dtype: float64\n",
      "====================================================================================================\n"
     ]
    }
   ],
   "source": [
    "val = df.violation.value_counts().sort_values(ascending=False)\n",
    "\n",
    "print('=' * 100)\n",
    "plt.figure(figsize=(10, 8))\n",
    "val.plot(kind='barh')\n",
    "plt.title('% of type of violations of stopped drivers')\n",
    "plt.show()\n",
    "print((val / len(df)) * 100)\n",
    "print('=' * 100)"
   ]
  },
  {
   "cell_type": "code",
   "execution_count": null,
   "id": "90ea62a3",
   "metadata": {},
   "outputs": [],
   "source": []
  },
  {
   "cell_type": "code",
   "execution_count": null,
   "id": "5c8d1f52",
   "metadata": {},
   "outputs": [],
   "source": []
  },
  {
   "cell_type": "code",
   "execution_count": null,
   "id": "34734381",
   "metadata": {},
   "outputs": [],
   "source": []
  },
  {
   "cell_type": "code",
   "execution_count": null,
   "id": "d647b6f9",
   "metadata": {},
   "outputs": [],
   "source": []
  },
  {
   "cell_type": "code",
   "execution_count": null,
   "id": "6112050c",
   "metadata": {},
   "outputs": [],
   "source": []
  },
  {
   "cell_type": "code",
   "execution_count": null,
   "id": "47d52084",
   "metadata": {},
   "outputs": [],
   "source": []
  }
 ],
 "metadata": {
  "hide_input": false,
  "kernelspec": {
   "display_name": "tf-gpu",
   "language": "python",
   "name": "tf-gpu"
  },
  "language_info": {
   "codemirror_mode": {
    "name": "ipython",
    "version": 3
   },
   "file_extension": ".py",
   "mimetype": "text/x-python",
   "name": "python",
   "nbconvert_exporter": "python",
   "pygments_lexer": "ipython3",
   "version": "3.6.13"
  }
 },
 "nbformat": 4,
 "nbformat_minor": 5
}
